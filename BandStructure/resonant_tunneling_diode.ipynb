{
 "cells": [
  {
   "cell_type": "code",
   "execution_count": 41,
   "metadata": {},
   "outputs": [],
   "source": [
    "#import pandas as pd\n",
    "import numpy as np\n",
    "import matplotlib\n",
    "import matplotlib.pyplot as plt\n",
    "from numpy.linalg import inv\n",
    "import matplotlib.ticker as ticker\n",
    "from matplotlib.ticker import MaxNLocator\n",
    "from matplotlib.ticker import (MultipleLocator, FormatStrFormatter,\n",
    "                               AutoMinorLocator)\n",
    "import matplotlib.colors as colors\n",
    "from matplotlib import rc\n",
    "plt.rcParams[\"font.serif\"]       = 'Times New Roman'\n",
    "plt.rcParams[\"xtick.major.size\"] = 10\n",
    "plt.rcParams[\"ytick.major.size\"] = 10\n",
    "plt.rcParams[\"xtick.minor.size\"] = 5\n",
    "plt.rcParams[\"ytick.minor.size\"] = 5\n",
    "plt.rcParams[\"xtick.labelsize\"]  = 25\n",
    "plt.rcParams[\"ytick.labelsize\"]  = 25\n",
    "\n",
    "plt.rcParams[\"legend.title_fontsize\"]=25\n",
    "import sys"
   ]
  },
  {
   "cell_type": "code",
   "execution_count": 42,
   "metadata": {},
   "outputs": [
    {
     "name": "stdout",
     "output_type": "stream",
     "text": [
      "t0 1.7148962148962152\n"
     ]
    }
   ],
   "source": [
    "hbar=1.06e-34\n",
    "q=1.6e-19\n",
    "m=0.25*9.1e-31\n",
    "IE=(q*q)/(2*np.pi*hbar)\n",
    "Ef=0.1\n",
    "kT=0.025\n",
    "a=3e-10\n",
    "t0=(hbar**2)/(2*m*a**2*q)\n",
    "print('t0',t0)\n",
    "\n",
    "case=0 #0: no barrier, 1: one barrier, 2: two barriers\n",
    "\n",
    "N=np.zeros(0) #N[0/1/2]=number of points in the source/channel/drain\n",
    "V=0 #applied bias\n",
    "\n",
    "#Energy grid\n",
    "NE=501 #number of energy points\n",
    "E=np.linspace(-0.2,0.8,NE) #energy range \n",
    "dE=E[2]-E[1]\n",
    "zplus=1j*1e-12 #small imaginary number\n",
    "TM=np.zeros(NE)"
   ]
  },
  {
   "cell_type": "code",
   "execution_count": 43,
   "metadata": {},
   "outputs": [],
   "source": [
    "def setup(argument):\n",
    "    N=np.zeros(3, dtype=int)\n",
    "    figName1=''\n",
    "    match argument:\n",
    "        case 0: #No barrier\n",
    "            N[0]=15\n",
    "            N[1]=16\n",
    "            N[2]=15\n",
    "            UB=np.ones(N.sum())*0\n",
    "            figName1='NoBarrier'\n",
    "        case 1: #Tunneling barrier\n",
    "            N[0]=15 \n",
    "            N[1]=16\n",
    "            N[2]=15\n",
    "            UB=np.concatenate((np.zeros(N[0]),0.4*np.ones(4),np.zeros(N[1]-4), np.zeros(N[2])),axis=None)\n",
    "            figName1='OneBarrier'\n",
    "\n",
    "        case 2: #Resonant tunneling for 2 barriers\n",
    "            N[0]=15 \n",
    "            N[1]=16\n",
    "            N[2]=15\n",
    "            UB=np.concatenate((np.zeros(N[0]),0.4*np.ones(4),np.zeros(N[1]-8),0.4*np.ones(4),np.zeros(N[2])),axis=None)\n",
    "            figName1='TwoBarriers'\n",
    "        case _:\n",
    "            raise ValueError(\"Not a valid setup argument\")\n",
    "    return N,UB,figName1"
   ]
  },
  {
   "cell_type": "code",
   "execution_count": 44,
   "metadata": {},
   "outputs": [
    {
     "name": "stdout",
     "output_type": "stream",
     "text": [
      "NoBarrier\n"
     ]
    }
   ],
   "source": [
    "N,UB,figName1=setup(case)\n",
    "Np=N.sum()\n",
    "print(figName1)"
   ]
  },
  {
   "cell_type": "code",
   "execution_count": 45,
   "metadata": {},
   "outputs": [],
   "source": [
    "#Construct a hamiltonian and add the potential due to barrier\n",
    "H=2*t0*np.diag(np.ones(Np)) - t0*np.diag(np.ones(Np-1),1) - t0*np.diag(np.ones(Np-1),-1)\n",
    "H=H+np.diag(UB)\n",
    "\n",
    "#Define fermi energies and potential due to bias\n",
    "mu1=Ef+V/2\n",
    "mu2=Ef-V/2\n",
    "f1=1./(1.+np.exp(E-mu1)/kT)\n",
    "f2=1./(1.+np.exp(E-mu2)/kT)\n",
    "U1=V*np.concatenate((0.5*np.ones(N[0]),np.linspace(0.5,-0.5,N[1]), -0.5*np.ones(N[2])),axis=None)\n",
    "U1=U1.conj().T #applied potential profile\n",
    "#print(U1)"
   ]
  },
  {
   "cell_type": "code",
   "execution_count": 46,
   "metadata": {},
   "outputs": [
    {
     "name": "stdout",
     "output_type": "stream",
     "text": [
      "Voltage, V:  0\n",
      "Current, I:  0.0\n"
     ]
    }
   ],
   "source": [
    "#Compute transmission coefficient, i.e. probability that an electron will transmit from source to drain\n",
    "I=0. #Current\n",
    "for k in range(0,NE):\n",
    "    sig1=np.zeros((Np,Np),dtype=complex)\n",
    "    sig2=np.zeros((Np,Np),dtype=complex)\n",
    "    sig3=np.zeros((Np,Np),dtype=complex)\n",
    "    ck = 1.-((E[k]+zplus-U1[0]-UB[0])/(2*t0))\n",
    "    ka = np.arccos(ck)\n",
    "    sig1[0][0]=-t0*np.exp(1j*ka)\n",
    "    gam1=1j*(sig1 - sig1.conj().T)\n",
    "    \n",
    "    ck = 1-((E[k]+zplus-U1[Np-1]-UB[Np-1])/(2*t0))\n",
    "    ka = np.arccos(ck)\n",
    "    sig2[Np-1][Np-1]=-t0*np.exp(1j*ka)\n",
    "    gam2=1j*(sig2 - sig2.conj().T)    \n",
    "    \n",
    "    G=inv(((E[k]+zplus)*np.eye(Np))- H - np.diag(U1) - sig1 - sig2)\n",
    "    TM[k]=np.real(np.trace(gam1@G@gam2@G.conj().T))\n",
    "    I=I+(dE*IE*TM[k]*(f1[k]-f2[k]))\n",
    "print('Voltage, V: ', V)\n",
    "print('Current, I: ', I)"
   ]
  },
  {
   "cell_type": "code",
   "execution_count": 47,
   "metadata": {},
   "outputs": [
    {
     "data": {
      "image/png": "[encoded data removed]",
      "text/plain": [
       "<Figure size 864x432 with 2 Axes>"
      ]
     },
     "metadata": {},
     "output_type": "display_data"
    }
   ],
   "source": [
    "XX=a*1e9*np.arange(Np)\n",
    "XS=XX[0:N[0]-4]\n",
    "XD=XX[N[0]+N[1]+5-1:Np]\n",
    "\n",
    "fig, ax = plt.subplots(1,2)\n",
    "fig.set_size_inches(12,6)\n",
    "fig.patch.set_facecolor('white')\n",
    "\n",
    "#ax1.legend(prop={'size': 30},loc='lower right')\n",
    "\n",
    "ax[0].plot(XX, U1+UB,'k')\n",
    "ax[0].plot(XS,mu1*np.ones(N[0]-4),'k--')\n",
    "ax[0].plot(XD,mu2*np.ones(N[2]-4),'k:')\n",
    "ax[1].plot(TM,E,'b')\n",
    "ax[0].set_xlim(0,15)\n",
    "ax[0].set_ylim(-0.2,0.8)\n",
    "ax[1].set_xlim(0,1.1)\n",
    "ax[1].set_ylim(-0.2,0.8)\n",
    "ax[0].set_xlabel(r'z / (nm)', fontsize=25)\n",
    "ax[0].set_ylabel(r'Energy / (eV) ', fontsize=25)\n",
    "ax[1].set_xlabel(r'Transmission', fontsize=25)\n",
    "ax[1].set_ylabel(r'Energy / (eV) ', fontsize=25)\n",
    "fig.tight_layout()\n",
    "plt.savefig(figName1, bbox_inches = \"tight\")#"
   ]
  },
  {
   "cell_type": "code",
   "execution_count": null,
   "metadata": {},
   "outputs": [],
   "source": []
  },
  {
   "cell_type": "code",
   "execution_count": null,
   "metadata": {},
   "outputs": [],
   "source": []
  }
 ],
 "metadata": {
  "kernelspec": {
   "display_name": "Python 3",
   "language": "python",
   "name": "python3"
  },
  "language_info": {
   "codemirror_mode": {
    "name": "ipython",
    "version": 3
   },
   "file_extension": ".py",
   "mimetype": "text/x-python",
   "name": "python",
   "nbconvert_exporter": "python",
   "pygments_lexer": "ipython3",
   "version": "3.10.7"
  }
 },
 "nbformat": 4,
 "nbformat_minor": 4
}
